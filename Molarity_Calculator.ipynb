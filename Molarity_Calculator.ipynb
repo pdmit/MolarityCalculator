{
 "cells": [
  {
   "cell_type": "markdown",
   "id": "8040b60f",
   "metadata": {},
   "source": [
    "# Molarity Calculator\n",
    "This Jupyter notebook calculates the molarity of a solution."
   ]
  },
  {
   "cell_type": "code",
   "execution_count": null,
   "id": "5a16cc02",
   "metadata": {},
   "outputs": [],
   "source": [
    "def calculate_molarity(moles, volume):\n",
    "    return moles / volume\n",
    "\n",
    "# Example usage\n",
    "moles = float(input(\"Enter moles of solute (mol): \"))\n",
    "volume = float(input(\"Enter volume of solution (L): \"))\n",
    "molarity = calculate_molarity(moles, volume)\n",
    "print(f'Molarity: {molarity} M')"
   ]
  }
 ],
 "metadata": {},
 "nbformat": 4,
 "nbformat_minor": 5
}
